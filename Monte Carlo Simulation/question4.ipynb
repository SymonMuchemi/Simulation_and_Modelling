{
 "cells": [
  {
   "cell_type": "code",
   "execution_count": 21,
   "metadata": {},
   "outputs": [],
   "source": [
    "import numpy as np\n"
   ]
  },
  {
   "cell_type": "code",
   "execution_count": 22,
   "metadata": {},
   "outputs": [],
   "source": [
    "mean_annual_claim_cost = 1800\n",
    "std_dev_annual_claim_cost = 223.61  # Approximate value from part a\n",
    "num_iterations = 10000\n"
   ]
  },
  {
   "cell_type": "code",
   "execution_count": 23,
   "metadata": {},
   "outputs": [],
   "source": [
    "# Create an array to store the simulated annual claims costs\n",
    "simulated_costs = np.empty(num_iterations)\n"
   ]
  },
  {
   "cell_type": "code",
   "execution_count": 24,
   "metadata": {},
   "outputs": [],
   "source": [
    "# Simulate annual claims costs for 10,000 iterations\n",
    "for i in range(num_iterations):\n",
    "    random_value = np.random.normal(0, 1)  # Generate a random value from a standard normal distribution\n",
    "    annual_claim_cost = mean_annual_claim_cost + std_dev_annual_claim_cost * random_value\n",
    "    simulated_costs[i] = annual_claim_cost\n"
   ]
  },
  {
   "cell_type": "code",
   "execution_count": 25,
   "metadata": {},
   "outputs": [
    {
     "name": "stdout",
     "output_type": "stream",
     "text": [
      "[1808.24014793 1707.2241349  1869.68082298 1926.52479903 2198.54013936\n",
      " 2090.50993282 1652.26891251 1651.50668997 1916.35585123 2164.18046734]\n"
     ]
    }
   ],
   "source": [
    "\n",
    "# Print the first few simulated annual claims costs\n",
    "print(simulated_costs[:10])\n"
   ]
  },
  {
   "cell_type": "code",
   "execution_count": 26,
   "metadata": {},
   "outputs": [],
   "source": [
    "# Parameters from part a\n",
    "mean_annual_claim_cost = 1800\n",
    "std_dev_annual_claim_cost = 223.61  # Approximate value from part a\n",
    "num_iterations = 10000\n",
    "deductible = 1000\n",
    "reinsurance_coverage = 0.80\n",
    "\n"
   ]
  },
  {
   "cell_type": "code",
   "execution_count": 27,
   "metadata": {},
   "outputs": [],
   "source": [
    "# Create an array to store the simulated annual financial exposures (losses)\n",
    "simulated_losses = np.empty(num_iterations)\n",
    "\n",
    "# Simulate annual financial exposures for 10,000 iterations\n",
    "for i in range(num_iterations):\n",
    "    random_value = np.random.normal(0, 1)  # Generate a random value from a standard normal distribution\n",
    "    annual_claim_cost = mean_annual_claim_cost + std_dev_annual_claim_cost * random_value\n",
    "    \n",
    "    # Calculate the annual loss after reinsurance\n",
    "    annual_loss = annual_claim_cost - deductible\n",
    "    if annual_loss > 0:\n",
    "        annual_loss *= (1 - reinsurance_coverage)  # Apply reinsurance coverage\n",
    "\n",
    "    simulated_losses[i] = annual_loss\n",
    "\n"
   ]
  },
  {
   "cell_type": "code",
   "execution_count": 28,
   "metadata": {},
   "outputs": [
    {
     "name": "stdout",
     "output_type": "stream",
     "text": [
      "[143.66651011 190.36499387 179.96165478 202.4251275  149.49033157\n",
      " 108.40402548  71.68569528 146.0608986   55.61405857 116.06252183]\n"
     ]
    }
   ],
   "source": [
    "# Print the first few simulated annual losses\n",
    "print(simulated_losses[:10])\n"
   ]
  },
  {
   "cell_type": "code",
   "execution_count": 29,
   "metadata": {},
   "outputs": [
    {
     "name": "stdout",
     "output_type": "stream",
     "text": [
      "Expected Annual Financial Exposure: $ 159.12229786041016\n"
     ]
    }
   ],
   "source": [
    "# Parameters and simulated losses from previous steps\n",
    "simulated_losses =  simulated_losses\n",
    "\n",
    "# Calculate the expected annual financial exposure\n",
    "expected_exposure = np.mean(simulated_losses)\n",
    "\n",
    "# Print the result\n",
    "print(\"Expected Annual Financial Exposure: $\", expected_exposure)\n"
   ]
  },
  {
   "cell_type": "code",
   "execution_count": 30,
   "metadata": {},
   "outputs": [
    {
     "name": "stdout",
     "output_type": "stream",
     "text": [
      "Probability of losses exceeding $500,000: 0.000000%\n"
     ]
    }
   ],
   "source": [
    "# Set the threshold for losses exceeding $500,000\n",
    "threshold = 500000\n",
    "\n",
    "# Calculate the probability of losses exceeding the threshold\n",
    "exceed_threshold_count = np.sum(simulated_losses > threshold)\n",
    "probability_exceed_threshold = exceed_threshold_count / len(simulated_losses)\n",
    "\n",
    "# Print the result\n",
    "print(\"Probability of losses exceeding $500,000: {:.6%}\".format(probability_exceed_threshold))\n"
   ]
  }
 ],
 "metadata": {
  "kernelspec": {
   "display_name": "Python 3 (ipykernel)",
   "language": "python",
   "name": "python3"
  },
  "language_info": {
   "codemirror_mode": {
    "name": "ipython",
    "version": 3
   },
   "file_extension": ".py",
   "mimetype": "text/x-python",
   "name": "python",
   "nbconvert_exporter": "python",
   "pygments_lexer": "ipython3",
   "version": "3.12.0"
  }
 },
 "nbformat": 4,
 "nbformat_minor": 2
}
